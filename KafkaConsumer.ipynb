{
 "cells": [
  {
   "cell_type": "code",
   "execution_count": null,
   "id": "10e475db-0106-4eef-906b-7473f684007b",
   "metadata": {
    "tags": []
   },
   "outputs": [],
   "source": [
    "from kafka import KafkaConsumer\n",
    "from time import sleep\n",
    "from json import dumps,loads\n",
    "import json\n",
    "from s3fs import S3FileSystem\n",
    "import boto3"
   ]
  },
  {
   "cell_type": "code",
   "execution_count": 49,
   "id": "505461a6-9a73-424b-85fd-e9002508ed36",
   "metadata": {
    "tags": []
   },
   "outputs": [],
   "source": [
    "consumer = KafkaConsumer(\n",
    "    'demo_testing2',\n",
    "     bootstrap_servers=['52.38.161.29:9092'], #add your IP here\n",
    "    value_deserializer=lambda x: loads(x.decode('utf-8')))\n"
   ]
  },
  {
   "cell_type": "code",
   "execution_count": 50,
   "id": "61a161cb-9492-4023-8c0d-d5fe1d5b594d",
   "metadata": {
    "tags": []
   },
   "outputs": [],
   "source": [
    "s3 = S3FileSystem(anon=False)"
   ]
  },
  {
   "cell_type": "code",
   "execution_count": null,
   "id": "e6267790-f5a2-4fe3-bb10-d2d23280e2a3",
   "metadata": {
    "tags": []
   },
   "outputs": [],
   "source": [
    "for count, i in enumerate(consumer):\n",
    "    with s3.open(\"s3://kafka-stock-bucket-gowri/stock_market_{}.json\".format(count), 'w') as file:\n",
    "        json.dump(i.value, file)    "
   ]
  },
  {
   "cell_type": "code",
   "execution_count": null,
   "id": "ed8a96a9-205b-4d82-9ea0-a5668cfc688b",
   "metadata": {
    "tags": []
   },
   "outputs": [],
   "source": []
  }
 ],
 "metadata": {
  "kernelspec": {
   "display_name": "Python 3 (ipykernel)",
   "language": "python",
   "name": "python3"
  },
  "language_info": {
   "codemirror_mode": {
    "name": "ipython",
    "version": 3
   },
   "file_extension": ".py",
   "mimetype": "text/x-python",
   "name": "python",
   "nbconvert_exporter": "python",
   "pygments_lexer": "ipython3",
   "version": "3.10.7"
  }
 },
 "nbformat": 4,
 "nbformat_minor": 5
}
